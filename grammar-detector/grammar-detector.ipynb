{
 "cells": [
  {
   "cell_type": "markdown",
   "id": "b991bfef",
   "metadata": {},
   "source": [
    "# Grammar-Detector"
   ]
  },
  {
   "cell_type": "markdown",
   "id": "71ef5cff",
   "metadata": {},
   "source": [
    "Note: This package is in alpha."
   ]
  },
  {
   "cell_type": "markdown",
   "id": "592852b5",
   "metadata": {},
   "source": [
    "## About This Notebook"
   ]
  },
  {
   "cell_type": "markdown",
   "id": "b2ba88a5",
   "metadata": {},
   "source": [
    "This notebook demonstrates the installation and usage of the [grammar-detector package](https://pypi.org/project/grammar-detector/). This notebook does not demonstrate how to configure custom grammatical features by loading patternset YAML files due to technical limitations with Jupyter Notebooks."
   ]
  },
  {
   "cell_type": "markdown",
   "id": "1fb9f732",
   "metadata": {},
   "source": [
    "## Author"
   ]
  },
  {
   "cell_type": "markdown",
   "id": "1e402ca9",
   "metadata": {},
   "source": [
    "Steven Kyle Crawford"
   ]
  },
  {
   "cell_type": "markdown",
   "id": "c00511e8",
   "metadata": {},
   "source": [
    "# Description"
   ]
  },
  {
   "cell_type": "markdown",
   "id": "06dcd162",
   "metadata": {},
   "source": [
    "A tool for detecting grammatical features in sentences, clauses, and phrases in just a few lines of code. This tool is one piece of a larger project to facilitate the creation of reading exercises for language instruction. It is designed to determine if a text contains sentences relevant to the desired grammatical feature. Any language supported by spaCy is theoretically supported."
   ]
  },
  {
   "cell_type": "markdown",
   "id": "73b68fd1",
   "metadata": {},
   "source": [
    "The patterns for these grammatical features are defined in YAML files called patternsets in lieu of writing code. These YAML files expand the capabilities of the GrammarDetector. The input text to be analyzed is compared against the patterns in the patternsets. In other words, writing more code is unnecessary for supporting new grammatical features. This means that inaccurate results arise from inaccurate patterns and not from the code itself. To mitigate errors, unittests can be defined in the patternsets."
   ]
  },
  {
   "cell_type": "markdown",
   "id": "bab70eab",
   "metadata": {},
   "source": [
    "## Installation"
   ]
  },
  {
   "cell_type": "markdown",
   "id": "286348d5",
   "metadata": {},
   "source": [
    "This notebook uses the smallest available dataset instead of the default.\n",
    "\n",
    "The default dataset, [en_core_web_lg](https://spacy.io/models/en#en_core_web_lg) (560 MB), can be substituted with another [spaCy dataset](https://spacy.io/usage/models#languages), such as [en_core_web_sm](https://spacy.io/models/en#en_core_web_sm) (12 MB) or [en_core_web_md](https://spacy.io/models/en#en_core_web_md) (40 MB)."
   ]
  },
  {
   "cell_type": "markdown",
   "id": "9a018a15",
   "metadata": {},
   "source": [
    "### Installing the Package"
   ]
  },
  {
   "cell_type": "code",
   "execution_count": 1,
   "id": "4aeb22ac",
   "metadata": {
    "scrolled": false
   },
   "outputs": [
    {
     "name": "stdout",
     "output_type": "stream",
     "text": [
      "Requirement already satisfied: grammar-detector in /home/kyle/.local/share/virtualenvs/notebooks-omjCyOIC/lib/python3.9/site-packages (0.2.2)\n",
      "Requirement already satisfied: spacy in /home/kyle/.local/share/virtualenvs/notebooks-omjCyOIC/lib/python3.9/site-packages (from grammar-detector) (3.4.1)\n",
      "Requirement already satisfied: pyyaml in /home/kyle/.local/share/virtualenvs/notebooks-omjCyOIC/lib/python3.9/site-packages (from grammar-detector) (6.0)\n",
      "Requirement already satisfied: spacy-lookups-data in /home/kyle/.local/share/virtualenvs/notebooks-omjCyOIC/lib/python3.9/site-packages (from grammar-detector) (1.0.3)\n",
      "Requirement already satisfied: tabulate in /home/kyle/.local/share/virtualenvs/notebooks-omjCyOIC/lib/python3.9/site-packages (from grammar-detector) (0.8.10)\n",
      "Requirement already satisfied: importlib-metadata in /home/kyle/.local/share/virtualenvs/notebooks-omjCyOIC/lib/python3.9/site-packages (from grammar-detector) (4.12.0)\n",
      "Requirement already satisfied: zipp>=0.5 in /home/kyle/.local/share/virtualenvs/notebooks-omjCyOIC/lib/python3.9/site-packages (from importlib-metadata->grammar-detector) (3.8.1)\n",
      "Requirement already satisfied: wasabi<1.1.0,>=0.9.1 in /home/kyle/.local/share/virtualenvs/notebooks-omjCyOIC/lib/python3.9/site-packages (from spacy->grammar-detector) (0.10.1)\n",
      "Requirement already satisfied: packaging>=20.0 in /home/kyle/.local/share/virtualenvs/notebooks-omjCyOIC/lib/python3.9/site-packages (from spacy->grammar-detector) (21.3)\n",
      "Requirement already satisfied: pathy>=0.3.5 in /home/kyle/.local/share/virtualenvs/notebooks-omjCyOIC/lib/python3.9/site-packages (from spacy->grammar-detector) (0.6.2)\n",
      "Requirement already satisfied: preshed<3.1.0,>=3.0.2 in /home/kyle/.local/share/virtualenvs/notebooks-omjCyOIC/lib/python3.9/site-packages (from spacy->grammar-detector) (3.0.7)\n",
      "Requirement already satisfied: catalogue<2.1.0,>=2.0.6 in /home/kyle/.local/share/virtualenvs/notebooks-omjCyOIC/lib/python3.9/site-packages (from spacy->grammar-detector) (2.0.8)\n",
      "Requirement already satisfied: cymem<2.1.0,>=2.0.2 in /home/kyle/.local/share/virtualenvs/notebooks-omjCyOIC/lib/python3.9/site-packages (from spacy->grammar-detector) (2.0.6)\n",
      "Requirement already satisfied: jinja2 in /home/kyle/.local/share/virtualenvs/notebooks-omjCyOIC/lib/python3.9/site-packages (from spacy->grammar-detector) (3.1.2)\n",
      "Requirement already satisfied: numpy>=1.15.0 in /home/kyle/.local/share/virtualenvs/notebooks-omjCyOIC/lib/python3.9/site-packages (from spacy->grammar-detector) (1.23.3)\n",
      "Requirement already satisfied: requests<3.0.0,>=2.13.0 in /home/kyle/.local/share/virtualenvs/notebooks-omjCyOIC/lib/python3.9/site-packages (from spacy->grammar-detector) (2.28.1)\n",
      "Requirement already satisfied: murmurhash<1.1.0,>=0.28.0 in /home/kyle/.local/share/virtualenvs/notebooks-omjCyOIC/lib/python3.9/site-packages (from spacy->grammar-detector) (1.0.8)\n",
      "Requirement already satisfied: spacy-legacy<3.1.0,>=3.0.9 in /home/kyle/.local/share/virtualenvs/notebooks-omjCyOIC/lib/python3.9/site-packages (from spacy->grammar-detector) (3.0.10)\n",
      "Requirement already satisfied: pydantic!=1.8,!=1.8.1,<1.10.0,>=1.7.4 in /home/kyle/.local/share/virtualenvs/notebooks-omjCyOIC/lib/python3.9/site-packages (from spacy->grammar-detector) (1.9.2)\n",
      "Requirement already satisfied: typer<0.5.0,>=0.3.0 in /home/kyle/.local/share/virtualenvs/notebooks-omjCyOIC/lib/python3.9/site-packages (from spacy->grammar-detector) (0.4.2)\n",
      "Requirement already satisfied: tqdm<5.0.0,>=4.38.0 in /home/kyle/.local/share/virtualenvs/notebooks-omjCyOIC/lib/python3.9/site-packages (from spacy->grammar-detector) (4.64.1)\n",
      "Requirement already satisfied: langcodes<4.0.0,>=3.2.0 in /home/kyle/.local/share/virtualenvs/notebooks-omjCyOIC/lib/python3.9/site-packages (from spacy->grammar-detector) (3.3.0)\n",
      "Requirement already satisfied: spacy-loggers<2.0.0,>=1.0.0 in /home/kyle/.local/share/virtualenvs/notebooks-omjCyOIC/lib/python3.9/site-packages (from spacy->grammar-detector) (1.0.3)\n",
      "Requirement already satisfied: srsly<3.0.0,>=2.4.3 in /home/kyle/.local/share/virtualenvs/notebooks-omjCyOIC/lib/python3.9/site-packages (from spacy->grammar-detector) (2.4.4)\n",
      "Requirement already satisfied: thinc<8.2.0,>=8.1.0 in /home/kyle/.local/share/virtualenvs/notebooks-omjCyOIC/lib/python3.9/site-packages (from spacy->grammar-detector) (8.1.1)\n",
      "Requirement already satisfied: setuptools in /home/kyle/.local/share/virtualenvs/notebooks-omjCyOIC/lib/python3.9/site-packages (from spacy->grammar-detector) (65.3.0)\n",
      "Requirement already satisfied: pyparsing!=3.0.5,>=2.0.2 in /home/kyle/.local/share/virtualenvs/notebooks-omjCyOIC/lib/python3.9/site-packages (from packaging>=20.0->spacy->grammar-detector) (3.0.9)\n",
      "Requirement already satisfied: smart-open<6.0.0,>=5.2.1 in /home/kyle/.local/share/virtualenvs/notebooks-omjCyOIC/lib/python3.9/site-packages (from pathy>=0.3.5->spacy->grammar-detector) (5.2.1)\n",
      "Requirement already satisfied: typing-extensions>=3.7.4.3 in /home/kyle/.local/share/virtualenvs/notebooks-omjCyOIC/lib/python3.9/site-packages (from pydantic!=1.8,!=1.8.1,<1.10.0,>=1.7.4->spacy->grammar-detector) (4.3.0)\n",
      "Requirement already satisfied: charset-normalizer<3,>=2 in /home/kyle/.local/share/virtualenvs/notebooks-omjCyOIC/lib/python3.9/site-packages (from requests<3.0.0,>=2.13.0->spacy->grammar-detector) (2.1.1)\n",
      "Requirement already satisfied: certifi>=2017.4.17 in /home/kyle/.local/share/virtualenvs/notebooks-omjCyOIC/lib/python3.9/site-packages (from requests<3.0.0,>=2.13.0->spacy->grammar-detector) (2022.9.14)\n",
      "Requirement already satisfied: urllib3<1.27,>=1.21.1 in /home/kyle/.local/share/virtualenvs/notebooks-omjCyOIC/lib/python3.9/site-packages (from requests<3.0.0,>=2.13.0->spacy->grammar-detector) (1.26.12)\n",
      "Requirement already satisfied: idna<4,>=2.5 in /home/kyle/.local/share/virtualenvs/notebooks-omjCyOIC/lib/python3.9/site-packages (from requests<3.0.0,>=2.13.0->spacy->grammar-detector) (3.4)\n",
      "Requirement already satisfied: confection<1.0.0,>=0.0.1 in /home/kyle/.local/share/virtualenvs/notebooks-omjCyOIC/lib/python3.9/site-packages (from thinc<8.2.0,>=8.1.0->spacy->grammar-detector) (0.0.1)\n",
      "Requirement already satisfied: blis<0.10.0,>=0.7.8 in /home/kyle/.local/share/virtualenvs/notebooks-omjCyOIC/lib/python3.9/site-packages (from thinc<8.2.0,>=8.1.0->spacy->grammar-detector) (0.9.1)\n",
      "Requirement already satisfied: click<9.0.0,>=7.1.1 in /home/kyle/.local/share/virtualenvs/notebooks-omjCyOIC/lib/python3.9/site-packages (from typer<0.5.0,>=0.3.0->spacy->grammar-detector) (8.1.3)\n",
      "Requirement already satisfied: MarkupSafe>=2.0 in /home/kyle/.local/share/virtualenvs/notebooks-omjCyOIC/lib/python3.9/site-packages (from jinja2->spacy->grammar-detector) (2.1.1)\n",
      "Note: you may need to restart the kernel to use updated packages.\n"
     ]
    }
   ],
   "source": [
    "pip install grammar-detector"
   ]
  },
  {
   "cell_type": "markdown",
   "id": "037e1473",
   "metadata": {},
   "source": [
    "### Downloading the Language Model"
   ]
  },
  {
   "cell_type": "raw",
   "id": "377c6315",
   "metadata": {},
   "source": [
    "# Bash call (doesn't work in Jupyter Notebooks)\n",
    "$ python -m spacy download en_core_web_sm"
   ]
  },
  {
   "cell_type": "code",
   "execution_count": 2,
   "id": "f3147717",
   "metadata": {
    "scrolled": true
   },
   "outputs": [
    {
     "name": "stdout",
     "output_type": "stream",
     "text": [
      "Collecting en-core-web-sm==3.4.0\n",
      "  Downloading https://github.com/explosion/spacy-models/releases/download/en_core_web_sm-3.4.0/en_core_web_sm-3.4.0-py3-none-any.whl (12.8 MB)\n",
      "\u001b[2K     \u001b[38;2;114;156;31m━━━━━━━━━━━━━━━━━━━━━━━━━━━━━━━━━━━━━━━━\u001b[0m \u001b[32m12.8/12.8 MB\u001b[0m \u001b[31m11.5 MB/s\u001b[0m eta \u001b[36m0:00:00\u001b[0mm eta \u001b[36m0:00:01\u001b[0m[36m0:00:01\u001b[0m\n",
      "\u001b[?25hRequirement already satisfied: spacy<3.5.0,>=3.4.0 in /home/kyle/.local/share/virtualenvs/notebooks-omjCyOIC/lib/python3.9/site-packages (from en-core-web-sm==3.4.0) (3.4.1)\n",
      "Requirement already satisfied: pathy>=0.3.5 in /home/kyle/.local/share/virtualenvs/notebooks-omjCyOIC/lib/python3.9/site-packages (from spacy<3.5.0,>=3.4.0->en-core-web-sm==3.4.0) (0.6.2)\n",
      "Requirement already satisfied: pydantic!=1.8,!=1.8.1,<1.10.0,>=1.7.4 in /home/kyle/.local/share/virtualenvs/notebooks-omjCyOIC/lib/python3.9/site-packages (from spacy<3.5.0,>=3.4.0->en-core-web-sm==3.4.0) (1.9.2)\n",
      "Requirement already satisfied: cymem<2.1.0,>=2.0.2 in /home/kyle/.local/share/virtualenvs/notebooks-omjCyOIC/lib/python3.9/site-packages (from spacy<3.5.0,>=3.4.0->en-core-web-sm==3.4.0) (2.0.6)\n",
      "Requirement already satisfied: thinc<8.2.0,>=8.1.0 in /home/kyle/.local/share/virtualenvs/notebooks-omjCyOIC/lib/python3.9/site-packages (from spacy<3.5.0,>=3.4.0->en-core-web-sm==3.4.0) (8.1.1)\n",
      "Requirement already satisfied: murmurhash<1.1.0,>=0.28.0 in /home/kyle/.local/share/virtualenvs/notebooks-omjCyOIC/lib/python3.9/site-packages (from spacy<3.5.0,>=3.4.0->en-core-web-sm==3.4.0) (1.0.8)\n",
      "Requirement already satisfied: spacy-legacy<3.1.0,>=3.0.9 in /home/kyle/.local/share/virtualenvs/notebooks-omjCyOIC/lib/python3.9/site-packages (from spacy<3.5.0,>=3.4.0->en-core-web-sm==3.4.0) (3.0.10)\n",
      "Requirement already satisfied: tqdm<5.0.0,>=4.38.0 in /home/kyle/.local/share/virtualenvs/notebooks-omjCyOIC/lib/python3.9/site-packages (from spacy<3.5.0,>=3.4.0->en-core-web-sm==3.4.0) (4.64.1)\n",
      "Requirement already satisfied: preshed<3.1.0,>=3.0.2 in /home/kyle/.local/share/virtualenvs/notebooks-omjCyOIC/lib/python3.9/site-packages (from spacy<3.5.0,>=3.4.0->en-core-web-sm==3.4.0) (3.0.7)\n",
      "Requirement already satisfied: requests<3.0.0,>=2.13.0 in /home/kyle/.local/share/virtualenvs/notebooks-omjCyOIC/lib/python3.9/site-packages (from spacy<3.5.0,>=3.4.0->en-core-web-sm==3.4.0) (2.28.1)\n",
      "Requirement already satisfied: srsly<3.0.0,>=2.4.3 in /home/kyle/.local/share/virtualenvs/notebooks-omjCyOIC/lib/python3.9/site-packages (from spacy<3.5.0,>=3.4.0->en-core-web-sm==3.4.0) (2.4.4)\n",
      "Requirement already satisfied: jinja2 in /home/kyle/.local/share/virtualenvs/notebooks-omjCyOIC/lib/python3.9/site-packages (from spacy<3.5.0,>=3.4.0->en-core-web-sm==3.4.0) (3.1.2)\n",
      "Requirement already satisfied: wasabi<1.1.0,>=0.9.1 in /home/kyle/.local/share/virtualenvs/notebooks-omjCyOIC/lib/python3.9/site-packages (from spacy<3.5.0,>=3.4.0->en-core-web-sm==3.4.0) (0.10.1)\n",
      "Requirement already satisfied: spacy-loggers<2.0.0,>=1.0.0 in /home/kyle/.local/share/virtualenvs/notebooks-omjCyOIC/lib/python3.9/site-packages (from spacy<3.5.0,>=3.4.0->en-core-web-sm==3.4.0) (1.0.3)\n",
      "Requirement already satisfied: catalogue<2.1.0,>=2.0.6 in /home/kyle/.local/share/virtualenvs/notebooks-omjCyOIC/lib/python3.9/site-packages (from spacy<3.5.0,>=3.4.0->en-core-web-sm==3.4.0) (2.0.8)\n",
      "Requirement already satisfied: typer<0.5.0,>=0.3.0 in /home/kyle/.local/share/virtualenvs/notebooks-omjCyOIC/lib/python3.9/site-packages (from spacy<3.5.0,>=3.4.0->en-core-web-sm==3.4.0) (0.4.2)\n",
      "Requirement already satisfied: numpy>=1.15.0 in /home/kyle/.local/share/virtualenvs/notebooks-omjCyOIC/lib/python3.9/site-packages (from spacy<3.5.0,>=3.4.0->en-core-web-sm==3.4.0) (1.23.3)\n",
      "Requirement already satisfied: packaging>=20.0 in /home/kyle/.local/share/virtualenvs/notebooks-omjCyOIC/lib/python3.9/site-packages (from spacy<3.5.0,>=3.4.0->en-core-web-sm==3.4.0) (21.3)\n",
      "Requirement already satisfied: setuptools in /home/kyle/.local/share/virtualenvs/notebooks-omjCyOIC/lib/python3.9/site-packages (from spacy<3.5.0,>=3.4.0->en-core-web-sm==3.4.0) (65.3.0)\n",
      "Requirement already satisfied: langcodes<4.0.0,>=3.2.0 in /home/kyle/.local/share/virtualenvs/notebooks-omjCyOIC/lib/python3.9/site-packages (from spacy<3.5.0,>=3.4.0->en-core-web-sm==3.4.0) (3.3.0)\n",
      "Requirement already satisfied: pyparsing!=3.0.5,>=2.0.2 in /home/kyle/.local/share/virtualenvs/notebooks-omjCyOIC/lib/python3.9/site-packages (from packaging>=20.0->spacy<3.5.0,>=3.4.0->en-core-web-sm==3.4.0) (3.0.9)\n",
      "Requirement already satisfied: smart-open<6.0.0,>=5.2.1 in /home/kyle/.local/share/virtualenvs/notebooks-omjCyOIC/lib/python3.9/site-packages (from pathy>=0.3.5->spacy<3.5.0,>=3.4.0->en-core-web-sm==3.4.0) (5.2.1)\n",
      "Requirement already satisfied: typing-extensions>=3.7.4.3 in /home/kyle/.local/share/virtualenvs/notebooks-omjCyOIC/lib/python3.9/site-packages (from pydantic!=1.8,!=1.8.1,<1.10.0,>=1.7.4->spacy<3.5.0,>=3.4.0->en-core-web-sm==3.4.0) (4.3.0)\n",
      "Requirement already satisfied: idna<4,>=2.5 in /home/kyle/.local/share/virtualenvs/notebooks-omjCyOIC/lib/python3.9/site-packages (from requests<3.0.0,>=2.13.0->spacy<3.5.0,>=3.4.0->en-core-web-sm==3.4.0) (3.4)\n",
      "Requirement already satisfied: charset-normalizer<3,>=2 in /home/kyle/.local/share/virtualenvs/notebooks-omjCyOIC/lib/python3.9/site-packages (from requests<3.0.0,>=2.13.0->spacy<3.5.0,>=3.4.0->en-core-web-sm==3.4.0) (2.1.1)\n",
      "Requirement already satisfied: certifi>=2017.4.17 in /home/kyle/.local/share/virtualenvs/notebooks-omjCyOIC/lib/python3.9/site-packages (from requests<3.0.0,>=2.13.0->spacy<3.5.0,>=3.4.0->en-core-web-sm==3.4.0) (2022.9.14)\n",
      "Requirement already satisfied: urllib3<1.27,>=1.21.1 in /home/kyle/.local/share/virtualenvs/notebooks-omjCyOIC/lib/python3.9/site-packages (from requests<3.0.0,>=2.13.0->spacy<3.5.0,>=3.4.0->en-core-web-sm==3.4.0) (1.26.12)\n",
      "Requirement already satisfied: blis<0.10.0,>=0.7.8 in /home/kyle/.local/share/virtualenvs/notebooks-omjCyOIC/lib/python3.9/site-packages (from thinc<8.2.0,>=8.1.0->spacy<3.5.0,>=3.4.0->en-core-web-sm==3.4.0) (0.9.1)\n",
      "Requirement already satisfied: confection<1.0.0,>=0.0.1 in /home/kyle/.local/share/virtualenvs/notebooks-omjCyOIC/lib/python3.9/site-packages (from thinc<8.2.0,>=8.1.0->spacy<3.5.0,>=3.4.0->en-core-web-sm==3.4.0) (0.0.1)\n",
      "Requirement already satisfied: click<9.0.0,>=7.1.1 in /home/kyle/.local/share/virtualenvs/notebooks-omjCyOIC/lib/python3.9/site-packages (from typer<0.5.0,>=0.3.0->spacy<3.5.0,>=3.4.0->en-core-web-sm==3.4.0) (8.1.3)\n",
      "Requirement already satisfied: MarkupSafe>=2.0 in /home/kyle/.local/share/virtualenvs/notebooks-omjCyOIC/lib/python3.9/site-packages (from jinja2->spacy<3.5.0,>=3.4.0->en-core-web-sm==3.4.0) (2.1.1)\n",
      "\u001b[38;5;2m✔ Download and installation successful\u001b[0m\n",
      "You can now load the package via spacy.load('en_core_web_sm')\n"
     ]
    }
   ],
   "source": [
    "# Workaround for Jupyter Notebooks\n",
    "from sys import executable\n",
    "!{executable} -m spacy download en_core_web_sm"
   ]
  },
  {
   "cell_type": "markdown",
   "id": "ac183f48",
   "metadata": {},
   "source": [
    "## Usage"
   ]
  },
  {
   "cell_type": "markdown",
   "id": "0bc58838",
   "metadata": {},
   "source": [
    "### Usage: 0) Constructing the GrammarDetector"
   ]
  },
  {
   "cell_type": "code",
   "execution_count": 17,
   "id": "742de9ad",
   "metadata": {},
   "outputs": [],
   "source": [
    "from grammardetector import GrammarDetector\n",
    "\n",
    "\n",
    "# Default values\n",
    "settings = {  \n",
    "    \"builtins\": True,\n",
    "    # \"dataset\": \"en_core_web_lg\", # Too big for the notebook (560 MB)\n",
    "    \"patternset_path\": \"\",  # Custom patternsets\n",
    "    \"verbose\": False,\n",
    "    \"very_verbose\": False,\n",
    "}\n",
    "grammar_detector = GrammarDetector(**settings, dataset=\"en_core_web_sm\")  # Optionally, pass in **settings"
   ]
  },
  {
   "cell_type": "markdown",
   "id": "b3332853",
   "metadata": {},
   "source": [
    "### Usage: 1) Running the GrammarDetector"
   ]
  },
  {
   "cell_type": "code",
   "execution_count": 18,
   "id": "310dd0ba",
   "metadata": {},
   "outputs": [
    {
     "data": {
      "text/plain": [
       "{'input': 'The dog chased a cat into the house.',\n",
       " 'voices': [<active: chased>],\n",
       " 'tense_aspects': [<past simple: chased>],\n",
       " 'persons': [<3rd: dog>, <3rd: cat>, <3rd: house>],\n",
       " 'determiners': [<definite: The dog>,\n",
       "  <indefinite: a cat>,\n",
       "  <definite: the house>],\n",
       " 'transitivity': [<ditransitive: dog chased a cat into the house>]}"
      ]
     },
     "execution_count": 18,
     "metadata": {},
     "output_type": "execute_result"
    }
   ],
   "source": [
    "from grammardetector import Match\n",
    "from typing import Union   \n",
    "\n",
    "\n",
    "ResultsType = dict[str, Union[str, list[Match]]]\n",
    "\n",
    "\n",
    "results: ResultsType = grammar_detector(\"The dog chased a cat into the house.\")\n",
    "results"
   ]
  },
  {
   "cell_type": "markdown",
   "id": "727b8740",
   "metadata": {},
   "source": [
    "### Usage: 2) Interpreting the Results"
   ]
  },
  {
   "cell_type": "code",
   "execution_count": 5,
   "id": "3f20f7d0",
   "metadata": {},
   "outputs": [],
   "source": [
    "from grammardetector import Match\n",
    "\n",
    "\n",
    "feature: str = \"tense_aspects\"\n",
    "verb_tense: Match = results[feature][0]"
   ]
  },
  {
   "cell_type": "code",
   "execution_count": 6,
   "id": "e60ec0a4",
   "metadata": {
    "scrolled": true
   },
   "outputs": [
    {
     "data": {
      "text/plain": [
       "<past simple: chased>"
      ]
     },
     "execution_count": 6,
     "metadata": {},
     "output_type": "execute_result"
    }
   ],
   "source": [
    "verb_tense  # Match"
   ]
  },
  {
   "cell_type": "code",
   "execution_count": 7,
   "id": "db3a1163",
   "metadata": {},
   "outputs": [
    {
     "data": {
      "text/plain": [
       "'past simple'"
      ]
     },
     "execution_count": 7,
     "metadata": {},
     "output_type": "execute_result"
    }
   ],
   "source": [
    "verb_tense.rulename  # str"
   ]
  },
  {
   "cell_type": "code",
   "execution_count": 8,
   "id": "3a149025",
   "metadata": {
    "scrolled": false
   },
   "outputs": [
    {
     "data": {
      "text/plain": [
       "{'span': chased,\n",
       " 'phrase': 'chased',\n",
       " 'root': 'chased',\n",
       " 'root_head': 'chased',\n",
       " 'pos': 'VERB',\n",
       " 'tag': 'VBD',\n",
       " 'dep': 'ROOT',\n",
       " 'phrase_lemma': 'chase',\n",
       " 'root_lemma': 'chase',\n",
       " 'pos_desc': 'verb',\n",
       " 'tag_desc': 'verb, past tense',\n",
       " 'dep_desc': 'root'}"
      ]
     },
     "execution_count": 8,
     "metadata": {},
     "output_type": "execute_result"
    }
   ],
   "source": [
    "verb_tense.span_features  # dict[str, typing.Union[str, spacy.tokens.Span]]"
   ]
  },
  {
   "cell_type": "markdown",
   "id": "7f6a911c",
   "metadata": {},
   "source": [
    "Each `Match` also includes the [`spaCy.tokens.Span`](https://spacy.io/api/span) and its properties."
   ]
  },
  {
   "cell_type": "code",
   "execution_count": 9,
   "id": "0c291eb7",
   "metadata": {
    "scrolled": false
   },
   "outputs": [
    {
     "data": {
      "text/plain": [
       "chased"
      ]
     },
     "execution_count": 9,
     "metadata": {},
     "output_type": "execute_result"
    }
   ],
   "source": [
    "verb_tense.span  # spacy.tokens.Span"
   ]
  },
  {
   "cell_type": "code",
   "execution_count": 10,
   "id": "ccefe07b",
   "metadata": {},
   "outputs": [
    {
     "data": {
      "text/plain": [
       "The dog chased a cat into the house."
      ]
     },
     "execution_count": 10,
     "metadata": {},
     "output_type": "execute_result"
    }
   ],
   "source": [
    "verb_tense.span.doc  # spacy.tokens.Doc"
   ]
  },
  {
   "cell_type": "code",
   "execution_count": 11,
   "id": "f8d4b59e",
   "metadata": {
    "scrolled": true
   },
   "outputs": [
    {
     "data": {
      "text/plain": [
       "array([ 0.05253243,  0.7584752 , -1.4021966 , -0.2234522 , -1.3500535 ,\n",
       "        1.3414049 ,  1.2377656 , -0.14931394,  0.7069486 ,  2.752092  ,\n",
       "       -0.9106793 , -0.99602413, -0.13224733, -0.82341045,  0.5429548 ,\n",
       "        0.08999176,  0.5639274 , -1.0829873 , -0.27505642,  0.6702783 ,\n",
       "        0.21955457,  0.61367756,  0.55740964, -0.01022789, -0.8495478 ,\n",
       "       -0.1037328 ,  0.582757  , -0.57657075, -0.70535654, -0.59675705,\n",
       "        0.25138372, -0.39082566,  1.4249784 ,  0.07549933, -0.73862785,\n",
       "       -0.5933064 ,  1.6329055 , -1.1838139 , -0.9827094 ,  0.3182447 ,\n",
       "       -0.9244643 , -0.14059615,  0.27800757, -0.24165767,  0.46711537,\n",
       "       -0.21405753, -0.6099269 ,  0.03935669, -0.13197665,  1.2914371 ,\n",
       "       -0.22493592,  0.14974567,  0.5813708 ,  2.4722009 , -0.3984077 ,\n",
       "       -0.09895566,  0.16179523, -0.48209858, -1.0198215 , -0.5356641 ,\n",
       "       -0.9093542 , -0.6016121 , -0.10648981, -0.11024137, -0.3472551 ,\n",
       "       -1.259284  ,  0.20666468,  0.08367673,  0.03628533, -1.4076872 ,\n",
       "       -0.9352031 ,  0.8519399 , -0.9427699 ,  0.84433705, -0.7701496 ,\n",
       "       -0.82125723,  1.8276811 , -0.2344596 ,  0.4200185 , -0.81913173,\n",
       "        0.17848107, -0.30791023,  1.4707344 ,  0.05696537, -0.49946174,\n",
       "        1.6017667 , -1.1042873 , -0.41898364,  2.1184092 ,  0.5365758 ,\n",
       "       -0.873759  ,  0.13581927, -0.6256886 ,  0.43507123, -0.5690871 ,\n",
       "       -0.3673423 ], dtype=float32)"
      ]
     },
     "execution_count": 11,
     "metadata": {},
     "output_type": "execute_result"
    }
   ],
   "source": [
    "verb_tense.span.vector  # numpy.ndarray[ndim=1, dtype=float32]"
   ]
  },
  {
   "cell_type": "code",
   "execution_count": 12,
   "id": "0889e823",
   "metadata": {},
   "outputs": [
    {
     "data": {
      "text/plain": [
       "8.386418"
      ]
     },
     "execution_count": 12,
     "metadata": {},
     "output_type": "execute_result"
    }
   ],
   "source": [
    "verb_tense.span.vector_norm  # float"
   ]
  },
  {
   "cell_type": "markdown",
   "id": "f272515a",
   "metadata": {},
   "source": [
    "### Usage: Printing Token Tables"
   ]
  },
  {
   "cell_type": "markdown",
   "id": "8b220391",
   "metadata": {},
   "source": [
    "Token tables list the `POS`, `TAG`, `DEP`, and the lemma for each `spacy.tokens.Token`.\n",
    "\n",
    "Note: The token tables are not formatted well by Jupyter Notebooks. See the [README](https://pypi.org/project/grammar-detector/) for an accurate example."
   ]
  },
  {
   "cell_type": "code",
   "execution_count": 13,
   "id": "10dcc13f",
   "metadata": {},
   "outputs": [
    {
     "name": "stdout",
     "output_type": "stream",
     "text": [
      "| Word   | POS   | POS Definition   | Tag   | Tag Definition                            | Dep.   | Dep. Definition        | Lemma.   |\n",
      "|--------|-------|------------------|-------|-------------------------------------------|--------|------------------------|----------|\n",
      "| The    | DET   | determiner       | DT    | determiner                                | det    | determiner             | the      |\n",
      "| dog    | NOUN  | noun             | NN    | noun, singular or mass                    | nsubj  | nominal subject        | dog      |\n",
      "| chased | VERB  | verb             | VBD   | verb, past tense                          | ROOT   | root                   | chase    |\n",
      "| a      | DET   | determiner       | DT    | determiner                                | det    | determiner             | a        |\n",
      "| cat    | NOUN  | noun             | NN    | noun, singular or mass                    | dobj   | direct object          | cat      |\n",
      "| into   | ADP   | adposition       | IN    | conjunction, subordinating or preposition | prep   | prepositional modifier | into     |\n",
      "| the    | DET   | determiner       | DT    | determiner                                | det    | determiner             | the      |\n",
      "| house  | NOUN  | noun             | NN    | noun, singular or mass                    | pobj   | object of preposition  | house    |\n",
      "| .      | PUNCT | punctuation      | .     | punctuation mark, sentence closer         | punct  | punctuation            | .        |\n"
     ]
    }
   ],
   "source": [
    "table = grammar_detector.token_table(\"The dog chased a cat into the house.\")  # (input: str) -> str\n",
    "print(table)"
   ]
  },
  {
   "cell_type": "markdown",
   "id": "818383a9",
   "metadata": {},
   "source": [
    "### Usage: Running Tests"
   ]
  },
  {
   "cell_type": "markdown",
   "id": "3b480a2d",
   "metadata": {},
   "source": [
    "Each patternset YAML file contains tests to validate the accuracy of the patterns."
   ]
  },
  {
   "cell_type": "code",
   "execution_count": 14,
   "id": "73e58617",
   "metadata": {},
   "outputs": [
    {
     "name": "stdout",
     "output_type": "stream",
     "text": [
      "======================================================================\n",
      "FAIL: [tense_aspects: I am going to have run.]\n",
      "----------------------------------------------------------------------\n",
      "ACTUAL vs EXPECTED\n",
      "\n",
      "Lists differ: ['present continuous'] != ['future perfect continuous']\n",
      "\n",
      "First differing element 0:\n",
      "'present continuous'\n",
      "'future perfect continuous'\n",
      "\n",
      "- ['present continuous']\n",
      "+ ['future perfect continuous']\n",
      "----------------------------------------------------------------------\n",
      "\n",
      "======================================================================\n",
      "FAIL: [persons: Biden and Harris are running for President and Vice-President.]\n",
      "----------------------------------------------------------------------\n",
      "ACTUAL vs EXPECTED\n",
      "\n",
      "Lists differ: ['3rd', '3rd', '3rd', '3rd', '3rd', '3rd'] != ['3rd', '3rd', '3rd', '3rd']\n",
      "\n",
      "First list contains 2 additional elements.\n",
      "First extra element 4:\n",
      "'3rd'\n",
      "\n",
      "- ['3rd', '3rd', '3rd', '3rd', '3rd', '3rd']\n",
      "?                       --------------\n",
      "\n",
      "+ ['3rd', '3rd', '3rd', '3rd']\n",
      "----------------------------------------------------------------------\n",
      "\n",
      "======================================================================\n",
      "FAIL: [determiners: the book that was on a shelf]\n",
      "----------------------------------------------------------------------\n",
      "ACTUAL vs EXPECTED\n",
      "\n",
      "Lists differ: ['definite', 'none', 'indefinite'] != ['definite', 'indefinite']\n",
      "\n",
      "First differing element 1:\n",
      "'none'\n",
      "'indefinite'\n",
      "\n",
      "First list contains 1 additional elements.\n",
      "First extra element 2:\n",
      "'indefinite'\n",
      "\n",
      "- ['definite', 'none', 'indefinite']\n",
      "?             --------\n",
      "\n",
      "+ ['definite', 'indefinite']\n",
      "----------------------------------------------------------------------\n",
      "\n",
      "======================================================================\n",
      "FAIL: [determiners: a book that was on a shelf]\n",
      "----------------------------------------------------------------------\n",
      "ACTUAL vs EXPECTED\n",
      "\n",
      "Lists differ: ['indefinite', 'none', 'indefinite'] != ['indefinite', 'indefinite']\n",
      "\n",
      "First differing element 1:\n",
      "'none'\n",
      "'indefinite'\n",
      "\n",
      "First list contains 1 additional elements.\n",
      "First extra element 2:\n",
      "'indefinite'\n",
      "\n",
      "- ['indefinite', 'none', 'indefinite']\n",
      "?                --------\n",
      "\n",
      "+ ['indefinite', 'indefinite']\n",
      "----------------------------------------------------------------------\n",
      "\n",
      "======================================================================\n",
      "FAIL: [determiners: an apple that was on a shelf]\n",
      "----------------------------------------------------------------------\n",
      "ACTUAL vs EXPECTED\n",
      "\n",
      "Lists differ: ['indefinite', 'none', 'indefinite'] != ['indefinite', 'indefinite']\n",
      "\n",
      "First differing element 1:\n",
      "'none'\n",
      "'indefinite'\n",
      "\n",
      "First list contains 1 additional elements.\n",
      "First extra element 2:\n",
      "'indefinite'\n",
      "\n",
      "- ['indefinite', 'none', 'indefinite']\n",
      "?                --------\n",
      "\n",
      "+ ['indefinite', 'indefinite']\n",
      "----------------------------------------------------------------------\n",
      "\n",
      "======================================================================\n",
      "FAIL: [determiners: apple that was on a shelf]\n",
      "----------------------------------------------------------------------\n",
      "ACTUAL vs EXPECTED\n",
      "\n",
      "Lists differ: ['none', 'none', 'indefinite'] != ['none', 'indefinite']\n",
      "\n",
      "First differing element 1:\n",
      "'none'\n",
      "'indefinite'\n",
      "\n",
      "First list contains 1 additional elements.\n",
      "First extra element 2:\n",
      "'indefinite'\n",
      "\n",
      "- ['none', 'none', 'indefinite']\n",
      "?         --------\n",
      "\n",
      "+ ['none', 'indefinite']\n",
      "----------------------------------------------------------------------\n",
      "\n",
      "======================================================================\n",
      "FAIL: [transitivity: It is going to rain.]\n",
      "----------------------------------------------------------------------\n",
      "ACTUAL vs EXPECTED\n",
      "\n",
      "Lists differ: ['It is going'] != ['It is going to rain']\n",
      "\n",
      "First differing element 0:\n",
      "'It is going'\n",
      "'It is going to rain'\n",
      "\n",
      "- ['It is going']\n",
      "+ ['It is going to rain']\n",
      "?              ++++++++\n",
      "\n",
      "----------------------------------------------------------------------\n",
      "\n",
      "======================================================================\n",
      "FAIL: [transitivity: It is going to have rained.]\n",
      "----------------------------------------------------------------------\n",
      "ACTUAL vs EXPECTED\n",
      "\n",
      "Lists differ: ['It is going'] != ['It is going to have rained']\n",
      "\n",
      "First differing element 0:\n",
      "'It is going'\n",
      "'It is going to have rained'\n",
      "\n",
      "- ['It is going']\n",
      "+ ['It is going to have rained']\n",
      "----------------------------------------------------------------------\n",
      "\n",
      "======================================================================\n",
      "FAIL: [transitivity: It is going to have been raining.]\n",
      "----------------------------------------------------------------------\n",
      "ACTUAL vs EXPECTED\n",
      "\n",
      "Lists differ: ['It is going'] != ['It is going to have been raining']\n",
      "\n",
      "First differing element 0:\n",
      "'It is going'\n",
      "'It is going to have been raining'\n",
      "\n",
      "- ['It is going']\n",
      "+ ['It is going to have been raining']\n",
      "----------------------------------------------------------------------\n",
      "\n",
      "voices = PASS: 2, FAIL: 0\n",
      "tense_aspects = PASS: 21, FAIL: 1\n",
      "persons = PASS: 6, FAIL: 1\n",
      "determiners = PASS: 12, FAIL: 4\n",
      "transitivity = PASS: 61, FAIL: 3\n"
     ]
    }
   ],
   "source": [
    "grammar_detector.run_tests(builtin_tests=True)  # (builtin_tests: bool) -> None"
   ]
  },
  {
   "cell_type": "markdown",
   "id": "db67be57",
   "metadata": {},
   "source": [
    "### Usage: Troubleshooting"
   ]
  },
  {
   "cell_type": "markdown",
   "id": "ad29db90",
   "metadata": {},
   "source": [
    "The `GrammarDetector`'s constructor keyword arguments `verbose` and `very_verbose` expose INFO-level and DEBUG-level logs. These can be helpful when debugging custom patternset YAML files. Priority is given to `very_verbose` over `verbose`. The default is `False`."
   ]
  },
  {
   "cell_type": "code",
   "execution_count": 15,
   "id": "63e4cd36",
   "metadata": {},
   "outputs": [],
   "source": [
    "detector_with_debug = GrammarDetector(verbose=True, very_verbose=False)"
   ]
  },
  {
   "cell_type": "raw",
   "id": "e0531a4f",
   "metadata": {},
   "source": [
    "Example of `verbose` (INFO) logs when constructing:\n",
    "\n",
    "[2022-09-23 17:48:24,756] Creating or retrieving the 'voices' PatternSet\n",
    "[2022-09-23 17:48:24,756] Adding 'active' to 'voices'\n",
    "[2022-09-23 17:48:24,756] Adding 'passive' to 'voices'\n",
    "[2022-09-23 17:48:24,756] Adding 2 Patterns to 'voices' PatternSetMatcher\n",
    "[2022-09-23 17:48:24,805] Creating or retrieving the 'tense_aspects' PatternSet\n",
    "[2022-09-23 17:48:24,805] Adding 'present simple' to 'tense_aspects'\n",
    "[2022-09-23 17:48:24,805] Adding 'present simple passive' to 'tense_aspects'\n",
    "[2022-09-23 17:48:24,805] Adding 'past simple' to 'tense_aspects'\n",
    "[2022-09-23 17:48:24,805] Adding 'past simple passive' to 'tense_aspects'\n",
    "[2022-09-23 17:48:24,805] Adding 'future simple will' to 'tense_aspects'\n",
    "[2022-09-23 17:48:24,805] Adding 'future simple will passive' to 'tense_aspects'\n",
    "[2022-09-23 17:48:24,805] Adding 'future simple be-going-to' to 'tense_aspects'\n",
    "[2022-09-23 17:48:24,805] Adding 'future simple be-going-to passive' to 'tense_aspects'\n",
    "[2022-09-23 17:48:24,805] Adding 'present continuous' to 'tense_aspects'\n",
    "[2022-09-23 17:48:24,805] Adding 'present continuous passive' to 'tense_aspects'\n",
    "[2022-09-23 17:48:24,805] Adding 'past continuous' to 'tense_aspects'\n",
    "[2022-09-23 17:48:24,806] Adding 'past continuous passive' to 'tense_aspects'\n",
    "[2022-09-23 17:48:24,806] Adding 'future continuous' to 'tense_aspects'\n",
    "[2022-09-23 17:48:24,806] Adding 'future continuous passive' to 'tense_aspects'\n",
    "[2022-09-23 17:48:24,806] Adding 'present perfect' to 'tense_aspects'\n",
    "[2022-09-23 17:48:24,806] Adding 'present perfect passive' to 'tense_aspects'\n",
    "[2022-09-23 17:48:24,806] Adding 'past perfect' to 'tense_aspects'\n",
    "[2022-09-23 17:48:24,806] Adding 'past perfect passive' to 'tense_aspects'\n",
    "[2022-09-23 17:48:24,806] Adding 'future perfect' to 'tense_aspects'\n",
    "[2022-09-23 17:48:24,806] Adding 'future perfect passive' to 'tense_aspects'\n",
    "[2022-09-23 17:48:24,806] Adding 'present perfect continuous' to 'tense_aspects'\n",
    "[2022-09-23 17:48:24,806] Adding 'present perfect continuous passive' to 'tense_aspects'\n",
    "[2022-09-23 17:48:24,806] Adding 'past perfect continuous' to 'tense_aspects'\n",
    "[2022-09-23 17:48:24,806] Adding 'past perfect continuous passive' to 'tense_aspects'\n",
    "[2022-09-23 17:48:24,806] Adding 'future perfect continuous' to 'tense_aspects'\n",
    "[2022-09-23 17:48:24,806] Adding 'future perfect continuous passive' to 'tense_aspects'\n",
    "[2022-09-23 17:48:24,806] Adding 26 Patterns to 'tense_aspects' PatternSetMatcher\n",
    "[2022-09-23 17:48:24,816] Creating or retrieving the 'persons' PatternSet\n",
    "[2022-09-23 17:48:24,816] Adding '1st' to 'persons'\n",
    "[2022-09-23 17:48:24,817] Adding '2nd' to 'persons'\n",
    "[2022-09-23 17:48:24,817] Adding '3rd' to 'persons'\n",
    "[2022-09-23 17:48:24,817] Adding 3 Patterns to 'persons' PatternSetMatcher\n",
    "[2022-09-23 17:48:24,825] Creating or retrieving the 'determiners' PatternSet\n",
    "[2022-09-23 17:48:24,825] Adding 'indefinite' to 'determiners'\n",
    "[2022-09-23 17:48:24,825] Adding 'definite' to 'determiners'\n",
    "[2022-09-23 17:48:24,825] Adding 'other' to 'determiners'\n",
    "[2022-09-23 17:48:24,825] Adding 'none' to 'determiners'\n",
    "[2022-09-23 17:48:24,825] Adding 4 Patterns to 'determiners' PatternSetMatcher\n",
    "[2022-09-23 17:48:24,844] Creating or retrieving the 'transitivity' PatternSet\n",
    "[2022-09-23 17:48:24,845] Adding 'ditransitive' to 'transitivity'\n",
    "[2022-09-23 17:48:24,845] Adding 'transitive' to 'transitivity'\n",
    "[2022-09-23 17:48:24,845] Adding 'intransitive' to 'transitivity'\n",
    "[2022-09-23 17:48:24,845] Adding 'impersonal' to 'transitivity'\n",
    "[2022-09-23 17:48:24,845] Adding 4 Patterns to 'transitivity' PatternSetMatcher"
   ]
  },
  {
   "cell_type": "code",
   "execution_count": 16,
   "id": "06cdbb2b",
   "metadata": {},
   "outputs": [
    {
     "data": {
      "text/plain": [
       "{'input': 'The dog chased a cat into the house.',\n",
       " 'voices': [<active: chased>],\n",
       " 'tense_aspects': [<past simple: chased>],\n",
       " 'persons': [<3rd: dog>, <3rd: cat>, <3rd: house>],\n",
       " 'determiners': [<definite: The dog>,\n",
       "  <indefinite: a cat>,\n",
       "  <definite: the house>],\n",
       " 'transitivity': [<ditransitive: dog chased a cat into the house>]}"
      ]
     },
     "execution_count": 16,
     "metadata": {},
     "output_type": "execute_result"
    }
   ],
   "source": [
    "detector_with_debug(\"The dog chased a cat into the house.\")"
   ]
  },
  {
   "cell_type": "raw",
   "id": "d8a8a701",
   "metadata": {},
   "source": [
    "Example of `verbose` (INFO) logs when running:\n",
    "\n",
    "[2022-09-23 17:48:24,846] Detecting 'voices'\n",
    "[2022-09-23 17:48:24,924] Found 1 raw matches: [(4330561590051414688, 2, 3)]\n",
    "[2022-09-23 17:48:24,924] Getting the best match of these 1: [<active: chased>]\n",
    "[2022-09-23 17:48:24,924] Getting the longest match of these 1: [<active: chased>]\n",
    "[2022-09-23 17:48:24,924] Got the longest match: <active: chased>\n",
    "[2022-09-23 17:48:24,924] Detecting 'tense_aspects'\n",
    "[2022-09-23 17:48:24,937] Found 1 raw matches: [(7240032805285784975, 2, 3)]\n",
    "[2022-09-23 17:48:24,937] Getting the best match of these 1: [<past simple: chased>]\n",
    "[2022-09-23 17:48:24,938] Getting the longest match of these 1: [<past simple: chased>]\n",
    "[2022-09-23 17:48:24,938] Got the longest match: <past simple: chased>\n",
    "[2022-09-23 17:48:24,938] Detecting 'persons'\n",
    "[2022-09-23 17:48:24,947] Found 1 raw matches: [(10143255649063953589, 1, 2)]\n",
    "[2022-09-23 17:48:24,947] Found 1 raw matches: [(10143255649063953589, 1, 2)]\n",
    "[2022-09-23 17:48:24,947] Found 1 raw matches: [(10143255649063953589, 1, 2)]\n",
    "[2022-09-23 17:48:24,948] Detecting 'determiners'\n",
    "[2022-09-23 17:48:24,954] Found 2 raw matches: [(6587210022304392399, 0, 2), (6163369680274798794, 1, 2)]\n",
    "[2022-09-23 17:48:24,954] Getting the best match of these 2: [<definite: The dog>, <none: dog>]\n",
    "[2022-09-23 17:48:24,954] Getting the longest match of these 2: [<definite: The dog>, <none: dog>]\n",
    "[2022-09-23 17:48:24,954] Got the longest match: <definite: The dog>\n",
    "[2022-09-23 17:48:24,954] Found 2 raw matches: [(4773473095184948649, 0, 2), (6163369680274798794, 1, 2)]\n",
    "[2022-09-23 17:48:24,954] Getting the best match of these 2: [<indefinite: a cat>, <none: cat>]\n",
    "[2022-09-23 17:48:24,954] Getting the longest match of these 2: [<indefinite: a cat>, <none: cat>]\n",
    "[2022-09-23 17:48:24,954] Got the longest match: <indefinite: a cat>\n",
    "[2022-09-23 17:48:24,955] Found 2 raw matches: [(6587210022304392399, 0, 2), (6163369680274798794, 1, 2)]\n",
    "[2022-09-23 17:48:24,955] Getting the best match of these 2: [<definite: the house>, <none: house>]\n",
    "[2022-09-23 17:48:24,955] Getting the longest match of these 2: [<definite: the house>, <none: house>]\n",
    "[2022-09-23 17:48:24,955] Got the longest match: <definite: the house>\n",
    "[2022-09-23 17:48:24,955] Detecting 'transitivity'\n",
    "[2022-09-23 17:48:24,960] Found 3 raw matches: [(13601417666312359534, 1, 3), (16627886815606618000, 1, 5), (697026356120760151, 1, 8)]\n",
    "[2022-09-23 17:48:24,960] Getting the best match of these 3: [<intransitive: dog chased>, <transitive: dog chased a cat>, <ditransitive: dog chased a cat into the house>]\n",
    "[2022-09-23 17:48:24,960] Getting the longest match of these 3: [<intransitive: dog chased>, <transitive: dog chased a cat>, <ditransitive: dog chased a cat into the house>]\n",
    "[2022-09-23 17:48:24,960] Got the longest match: <ditransitive: dog chased a cat into the house>"
   ]
  }
 ],
 "metadata": {
  "kernelspec": {
   "display_name": "Python 3 (ipykernel)",
   "language": "python",
   "name": "python3"
  },
  "language_info": {
   "codemirror_mode": {
    "name": "ipython",
    "version": 3
   },
   "file_extension": ".py",
   "mimetype": "text/x-python",
   "name": "python",
   "nbconvert_exporter": "python",
   "pygments_lexer": "ipython3",
   "version": "3.9.5"
  }
 },
 "nbformat": 4,
 "nbformat_minor": 5
}
